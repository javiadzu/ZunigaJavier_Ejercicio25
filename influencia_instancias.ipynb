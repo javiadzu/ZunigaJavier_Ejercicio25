{
  "nbformat": 4,
  "nbformat_minor": 0,
  "metadata": {
    "colab": {
      "name": "influencia_instancias.ipynb",
      "provenance": []
    },
    "kernelspec": {
      "name": "python3",
      "display_name": "Python 3"
    }
  },
  "cells": [
    {
      "cell_type": "code",
      "metadata": {
        "id": "6xdMra_1SiGo",
        "colab_type": "code",
        "colab": {}
      },
      "source": [
        "import pandas as pd\n",
        "from sklearn.preprocessing import StandardScaler\n",
        "from sklearn.model_selection import train_test_split\n",
        "from sklearn.linear_model import LogisticRegression\n",
        "from sklearn import preprocessing\n",
        "from sklearn.metrics import f1_score\n",
        "import numpy as np\n",
        "import matplotlib.pyplot as plt\n",
        "import sklearn.preprocessing\n",
        "import sklearn.neural_network\n",
        "import sklearn.model_selection \n"
      ],
      "execution_count": 0,
      "outputs": []
    },
    {
      "cell_type": "code",
      "metadata": {
        "id": "6DX0Lw1ETGjZ",
        "colab_type": "code",
        "colab": {}
      },
      "source": [
        "df = pd.read_csv('City.csv')\n",
        "Y=df.iloc[:,0]\n",
        "X= df.iloc[:,2:]"
      ],
      "execution_count": 0,
      "outputs": []
    },
    {
      "cell_type": "code",
      "metadata": {
        "id": "9fkMi6eTTm73",
        "colab_type": "code",
        "colab": {}
      },
      "source": [
        "# Partimos los datos, la mitad para entrenamiento y la otra para test\n",
        "scaler = StandardScaler()\n",
        "x_train, x_test, y_train, y_test = train_test_split(X, Y, train_size=0.5)"
      ],
      "execution_count": 0,
      "outputs": []
    },
    {
      "cell_type": "code",
      "metadata": {
        "id": "tNywdLI7TI2A",
        "colab_type": "code",
        "colab": {}
      },
      "source": [
        "#Definimos la función que contenga la red neuronal con tres capas de cuatro neuronas cada una y calcule el F1\n",
        "#p es el porcentaje del número total de datos training\n",
        "#Las variables que tengan prefijo N no se utilizarán, por otro lado x_Tr y Y_Tr es con lo que entrenaremos la neurona\n",
        "def get_F1(p, parreg):\n",
        "  if (p==1):\n",
        "     x_Tr,x_Te, Y_Tr, Y_Te= x_train, x_test, y_train, y_test\n",
        "  if (p!=1):\n",
        "    x_Tr, Nx_Tr, Y_Tr, NY_tr = train_test_split(x_train, y_train, train_size=p)\n",
        "    x_Te, Nx_Te, Y_Te, NY_te = train_test_split(x_test, y_test, train_size=p)\n",
        "  if (parreg == 0):\n",
        "    par_reg='logistic'\n",
        "  if(parreg == 1):\n",
        "    par_reg= 'relu'\n",
        "  mlp = sklearn.neural_network.MLPClassifier(activation=par_reg, \n",
        "                                           hidden_layer_sizes=(4,4,4), \n",
        "                                           max_iter=2200)\n",
        "  mlp.fit(x_Tr, Y_Tr)\n",
        "  return (sklearn.metrics.f1_score(Y_Tr, mlp.predict(x_Tr), average='macro'),sklearn.metrics.f1_score(Y_Te, mlp.predict(x_Te), average='macro'))\n",
        "  "
      ],
      "execution_count": 0,
      "outputs": []
    },
    {
      "cell_type": "code",
      "metadata": {
        "id": "4xNZX-4sTnpm",
        "colab_type": "code",
        "colab": {
          "base_uri": "https://localhost:8080/",
          "height": 343
        },
        "outputId": "70f546d3-c656-4877-fa0d-7d023a7a6c5f"
      },
      "source": [
        "#Creamos la lista que contendrá F1 softmax y Relu. Las primeras 2 filas son de softmax (training y test). Las filas 3 y 4 son las de Relu\n",
        "F1=np.zeros((4,10))\n",
        "\n",
        "#Calculamos F1 para cada caso. Si el 2do parámetro es softmax\n",
        "for i in range(10):\n",
        "  para= (i+1)/10\n",
        "  F1_soft=get_F1(para, 0)\n",
        "  F1_relu=get_F1(para, 1)\n",
        "  F1[0,i]= F1_soft[0]\n",
        "  F1[1,i]= F1_soft[1]\n",
        "  F1[2,i]= F1_relu[0]\n",
        "  F1[3,i]= F1_relu[1]"
      ],
      "execution_count": 5,
      "outputs": [
        {
          "output_type": "stream",
          "text": [
            "/usr/local/lib/python3.6/dist-packages/sklearn/neural_network/_multilayer_perceptron.py:571: ConvergenceWarning: Stochastic Optimizer: Maximum iterations (2200) reached and the optimization hasn't converged yet.\n",
            "  % self.max_iter, ConvergenceWarning)\n",
            "/usr/local/lib/python3.6/dist-packages/sklearn/neural_network/_multilayer_perceptron.py:571: ConvergenceWarning: Stochastic Optimizer: Maximum iterations (2200) reached and the optimization hasn't converged yet.\n",
            "  % self.max_iter, ConvergenceWarning)\n",
            "/usr/local/lib/python3.6/dist-packages/sklearn/neural_network/_multilayer_perceptron.py:571: ConvergenceWarning: Stochastic Optimizer: Maximum iterations (2200) reached and the optimization hasn't converged yet.\n",
            "  % self.max_iter, ConvergenceWarning)\n",
            "/usr/local/lib/python3.6/dist-packages/sklearn/neural_network/_multilayer_perceptron.py:571: ConvergenceWarning: Stochastic Optimizer: Maximum iterations (2200) reached and the optimization hasn't converged yet.\n",
            "  % self.max_iter, ConvergenceWarning)\n",
            "/usr/local/lib/python3.6/dist-packages/sklearn/neural_network/_multilayer_perceptron.py:571: ConvergenceWarning: Stochastic Optimizer: Maximum iterations (2200) reached and the optimization hasn't converged yet.\n",
            "  % self.max_iter, ConvergenceWarning)\n",
            "/usr/local/lib/python3.6/dist-packages/sklearn/neural_network/_multilayer_perceptron.py:571: ConvergenceWarning: Stochastic Optimizer: Maximum iterations (2200) reached and the optimization hasn't converged yet.\n",
            "  % self.max_iter, ConvergenceWarning)\n",
            "/usr/local/lib/python3.6/dist-packages/sklearn/neural_network/_multilayer_perceptron.py:571: ConvergenceWarning: Stochastic Optimizer: Maximum iterations (2200) reached and the optimization hasn't converged yet.\n",
            "  % self.max_iter, ConvergenceWarning)\n",
            "/usr/local/lib/python3.6/dist-packages/sklearn/neural_network/_multilayer_perceptron.py:571: ConvergenceWarning: Stochastic Optimizer: Maximum iterations (2200) reached and the optimization hasn't converged yet.\n",
            "  % self.max_iter, ConvergenceWarning)\n",
            "/usr/local/lib/python3.6/dist-packages/sklearn/neural_network/_multilayer_perceptron.py:571: ConvergenceWarning: Stochastic Optimizer: Maximum iterations (2200) reached and the optimization hasn't converged yet.\n",
            "  % self.max_iter, ConvergenceWarning)\n"
          ],
          "name": "stderr"
        }
      ]
    },
    {
      "cell_type": "code",
      "metadata": {
        "id": "ECJfggPkW6m3",
        "colab_type": "code",
        "colab": {
          "base_uri": "https://localhost:8080/",
          "height": 326
        },
        "outputId": "98547e95-a6c4-4e87-967f-3f89ed049489"
      },
      "source": [
        "fig, ax = plt.subplots(2,1)\n",
        "ax[0].plot((np.arange(0,10)+1)/10, F1[0], 'o-', label= 'Train')\n",
        "ax[0].plot((np.arange(0,10)+1)/10, F1[1], 'o-', label= 'Test')\n",
        "ax[0].legend()\n",
        "ax[0].set_xlabel('Fracción de el número total de entradas en training y test')\n",
        "ax[0].set_ylabel('F1 score')\n",
        "ax[0].annotate('Soft max ',\n",
        "            xy=(390, 205), xycoords='figure pixels')\n",
        "ax[1].plot((np.arange(0,10)+1)/10, F1[2], 'o-', label= 'Train')\n",
        "ax[1].plot((np.arange(0,10)+1)/10, F1[3], 'o-', label= 'Test')\n",
        "ax[1].legend()\n",
        "ax[1].set_xlabel('Fracción de el número total de entradas en training y test')\n",
        "ax[1].set_ylabel('F1 score')\n",
        "ax[1].annotate('Rectified Linear Unit ',\n",
        "            xy=(390, 90), xycoords='figure pixels')\n",
        "fig.suptitle('Activadión softmax y ReLU ')"
      ],
      "execution_count": 6,
      "outputs": [
        {
          "output_type": "execute_result",
          "data": {
            "text/plain": [
              "Text(0.5, 0.98, 'Activadión softmax y ReLU ')"
            ]
          },
          "metadata": {
            "tags": []
          },
          "execution_count": 6
        },
        {
          "output_type": "display_data",
          "data": {
            "image/png": "[encoded data removed]",
            "text/plain": [
              "<Figure size 432x288 with 2 Axes>"
            ]
          },
          "metadata": {
            "tags": [],
            "needs_background": "light"
          }
        }
      ]
    },
    {
      "cell_type": "markdown",
      "metadata": {
        "id": "qnrUeWaNp907",
        "colab_type": "text"
      },
      "source": [
        "Soft Max es mucho más estable tanto para train como para test en su crecimiento. \n",
        "Rectified Linear Unit oir su parte es bastante impredescible para las primeras fracciones. Sin embargo el Score de F1 es mejor para RLU."
      ]
    },
    {
      "cell_type": "code",
      "metadata": {
        "id": "wadJ8gXQqbF3",
        "colab_type": "code",
        "colab": {
          "base_uri": "https://localhost:8080/",
          "height": 105
        },
        "outputId": "5e9ba0e7-a274-42e4-8f7c-beb43c0afb28"
      },
      "source": [
        "#Ahora vamos a utilizar Relu variando el parámetro alfa\n",
        "F1_alpha = np.zeros((3,10))\n",
        "for i in range(10):\n",
        "  c= 10**(-4+i*0.8)\n",
        "  mlp = sklearn.neural_network.MLPClassifier(activation='relu', \n",
        "                                           hidden_layer_sizes=(4,4,4), \n",
        "                                           max_iter=1500, alpha = c)\n",
        "  mlp.fit(x_train, y_train)\n",
        "  F1_alpha[0,i]=(sklearn.metrics.f1_score(y_train, mlp.predict(x_train), average='macro'))\n",
        "  F1_alpha[1,i]=(sklearn.metrics.f1_score(y_test, mlp.predict(x_test), average='macro'))\n",
        "  F1_alpha[2,i]=c\n"
      ],
      "execution_count": 8,
      "outputs": [
        {
          "output_type": "stream",
          "text": [
            "/usr/local/lib/python3.6/dist-packages/sklearn/neural_network/_multilayer_perceptron.py:571: ConvergenceWarning: Stochastic Optimizer: Maximum iterations (1500) reached and the optimization hasn't converged yet.\n",
            "  % self.max_iter, ConvergenceWarning)\n",
            "/usr/local/lib/python3.6/dist-packages/sklearn/neural_network/_multilayer_perceptron.py:571: ConvergenceWarning: Stochastic Optimizer: Maximum iterations (1500) reached and the optimization hasn't converged yet.\n",
            "  % self.max_iter, ConvergenceWarning)\n"
          ],
          "name": "stderr"
        }
      ]
    },
    {
      "cell_type": "code",
      "metadata": {
        "id": "QQaeMZ4ltlJv",
        "colab_type": "code",
        "colab": {
          "base_uri": "https://localhost:8080/",
          "height": 300
        },
        "outputId": "113bacce-2bd7-4474-dabf-67687379c71a"
      },
      "source": [
        "fig, ax = plt.subplots()\n",
        "ax.semilogx(F1_alpha[2], F1_alpha[0], 'ro-',label= 'Train')\n",
        "ax.semilogx(F1_alpha[2], F1_alpha[1], 'bo-',label= 'Test')\n",
        "ax.set_xlabel(' alpha ')\n",
        "ax.set_ylabel('F1 score')\n"
      ],
      "execution_count": 14,
      "outputs": [
        {
          "output_type": "execute_result",
          "data": {
            "text/plain": [
              "Text(0, 0.5, 'F1 score')"
            ]
          },
          "metadata": {
            "tags": []
          },
          "execution_count": 14
        },
        {
          "output_type": "display_data",
          "data": {
            "image/png": "[encoded data removed]",
            "text/plain": [
              "<Figure size 432x288 with 1 Axes>"
            ]
          },
          "metadata": {
            "tags": [],
            "needs_background": "light"
          }
        }
      ]
    },
    {
      "cell_type": "markdown",
      "metadata": {
        "id": "6M6D6HICy3MB",
        "colab_type": "text"
      },
      "source": [
        "El  parámetro $\\alpha$ alcanza un valor óptimo para F1 entre [0.1, 1]$. a partir de allí cae rapidamente a un valor menor de 0.1 "
      ]
    },
    {
      "cell_type": "markdown",
      "metadata": {
        "id": "jgx5iASbzR15",
        "colab_type": "text"
      },
      "source": [
        "# Conclusiones"
      ]
    },
    {
      "cell_type": "markdown",
      "metadata": {
        "id": "Uk7rvTry0zVq",
        "colab_type": "text"
      },
      "source": [
        ""
      ]
    },
    {
      "cell_type": "markdown",
      "metadata": {
        "id": "FGrO-5FD01V8",
        "colab_type": "text"
      },
      "source": [
        "1. La activación softmax nos da valores de F1 más a constantes para proporciones de los datos\n",
        "en training y test a comparación de Rectified Linear Unit.\n",
        "2. La activación Rectified Linear Unit es más variable, pero F1 converge más rapidamente a 1 que\n",
        "softmax, inclusive, no es posible decir que para este último se presente esto.\n",
        "3. Como era de esperarse es mejor tener un número mayor de datos con que entrenar y testear la red.\n",
        "4. Inexplicablemente para mí tanto en training como en test se presentan F1 score muy cercanos entre sí.\n",
        "5. El parámetro $\\alpha$ no debería estar por encima de 1, pues el F1 score decae a aproximadamente 0.\n",
        "6. El parámetro $\\alpha$ puede variar F1 entre 0.5 a 1, lo que quiere decir que la penalidad es importante para nuestras predicciones."
      ]
    },
    {
      "cell_type": "code",
      "metadata": {
        "id": "_nPLkwJmzUVk",
        "colab_type": "code",
        "colab": {}
      },
      "source": [
        ""
      ],
      "execution_count": 0,
      "outputs": []
    }
  ]
}